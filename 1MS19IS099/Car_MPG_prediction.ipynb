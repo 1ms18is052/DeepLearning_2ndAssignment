{
  "nbformat": 4,
  "nbformat_minor": 0,
  "metadata": {
    "colab": {
      "provenance": []
    },
    "kernelspec": {
      "name": "python3",
      "display_name": "Python 3"
    },
    "language_info": {
      "name": "python"
    }
  },
  "cells": [
    {
      "cell_type": "code",
      "execution_count": null,
      "metadata": {
        "id": "kfcfVpbD2BKk"
      },
      "outputs": [],
      "source": [
        "import pandas as pd\n",
        "import numpy as np\n",
        "import matplotlib.pyplot as plt\n",
        "import seaborn as sns\n",
        "sns.set()\n",
        "import os\n",
        "from IPython.display import display\n",
        "import statsmodels as sm\n",
        "from statsmodels.stats.outliers_influence import variance_inflation_factor\n",
        "from sklearn.model_selection import train_test_split,GridSearchCV,RandomizedSearchCV\n",
        "from sklearn.linear_model import LinearRegression,Ridge,Lasso\n",
        "from sklearn.tree import DecisionTreeRegressor\n",
        "from sklearn.ensemble import RandomForestRegressor,GradientBoostingRegressor\n",
        "from sklearn.metrics import r2_score,mean_squared_error\n",
        "from sklearn import preprocessing"
      ]
    },
    {
      "cell_type": "code",
      "source": [
        "cars1 = pd.read_csv('cars1.csv')   # read in the first data file\n",
        "cars2 = pd.read_csv('cars2.csv') "
      ],
      "metadata": {
        "id": "jwrZXKKy2dX3"
      },
      "execution_count": null,
      "outputs": []
    },
    {
      "cell_type": "code",
      "source": [
        "cars1.drop(cars1.columns[9:],axis=1,inplace=True) \n",
        "\n",
        "# concatenate the two data\n",
        "cars = pd.concat([cars1,cars2])\n",
        "cars.head()  # print the first five rows of the data"
      ],
      "metadata": {
        "id": "9xUtsgl825W6",
        "colab": {
          "base_uri": "https://localhost:8080/",
          "height": 206
        },
        "outputId": "330aefe8-724d-4656-806b-7b84efaf3463"
      },
      "execution_count": null,
      "outputs": [
        {
          "output_type": "execute_result",
          "data": {
            "text/plain": [
              "    mpg  cylinders  displacement horsepower  weight  acceleration  model  \\\n",
              "0  18.0          8           307        130    3504          12.0     70   \n",
              "1  15.0          8           350        165    3693          11.5     70   \n",
              "2  18.0          8           318        150    3436          11.0     70   \n",
              "3  16.0          8           304        150    3433          12.0     70   \n",
              "4  17.0          8           302        140    3449          10.5     70   \n",
              "\n",
              "   origin                        car  \n",
              "0       1  chevrolet chevelle malibu  \n",
              "1       1          buick skylark 320  \n",
              "2       1         plymouth satellite  \n",
              "3       1              amc rebel sst  \n",
              "4       1                ford torino  "
            ],
            "text/html": [
              "\n",
              "  <div id=\"df-d357dd1c-11c6-4640-8161-5c4105173e20\">\n",
              "    <div class=\"colab-df-container\">\n",
              "      <div>\n",
              "<style scoped>\n",
              "    .dataframe tbody tr th:only-of-type {\n",
              "        vertical-align: middle;\n",
              "    }\n",
              "\n",
              "    .dataframe tbody tr th {\n",
              "        vertical-align: top;\n",
              "    }\n",
              "\n",
              "    .dataframe thead th {\n",
              "        text-align: right;\n",
              "    }\n",
              "</style>\n",
              "<table border=\"1\" class=\"dataframe\">\n",
              "  <thead>\n",
              "    <tr style=\"text-align: right;\">\n",
              "      <th></th>\n",
              "      <th>mpg</th>\n",
              "      <th>cylinders</th>\n",
              "      <th>displacement</th>\n",
              "      <th>horsepower</th>\n",
              "      <th>weight</th>\n",
              "      <th>acceleration</th>\n",
              "      <th>model</th>\n",
              "      <th>origin</th>\n",
              "      <th>car</th>\n",
              "    </tr>\n",
              "  </thead>\n",
              "  <tbody>\n",
              "    <tr>\n",
              "      <th>0</th>\n",
              "      <td>18.0</td>\n",
              "      <td>8</td>\n",
              "      <td>307</td>\n",
              "      <td>130</td>\n",
              "      <td>3504</td>\n",
              "      <td>12.0</td>\n",
              "      <td>70</td>\n",
              "      <td>1</td>\n",
              "      <td>chevrolet chevelle malibu</td>\n",
              "    </tr>\n",
              "    <tr>\n",
              "      <th>1</th>\n",
              "      <td>15.0</td>\n",
              "      <td>8</td>\n",
              "      <td>350</td>\n",
              "      <td>165</td>\n",
              "      <td>3693</td>\n",
              "      <td>11.5</td>\n",
              "      <td>70</td>\n",
              "      <td>1</td>\n",
              "      <td>buick skylark 320</td>\n",
              "    </tr>\n",
              "    <tr>\n",
              "      <th>2</th>\n",
              "      <td>18.0</td>\n",
              "      <td>8</td>\n",
              "      <td>318</td>\n",
              "      <td>150</td>\n",
              "      <td>3436</td>\n",
              "      <td>11.0</td>\n",
              "      <td>70</td>\n",
              "      <td>1</td>\n",
              "      <td>plymouth satellite</td>\n",
              "    </tr>\n",
              "    <tr>\n",
              "      <th>3</th>\n",
              "      <td>16.0</td>\n",
              "      <td>8</td>\n",
              "      <td>304</td>\n",
              "      <td>150</td>\n",
              "      <td>3433</td>\n",
              "      <td>12.0</td>\n",
              "      <td>70</td>\n",
              "      <td>1</td>\n",
              "      <td>amc rebel sst</td>\n",
              "    </tr>\n",
              "    <tr>\n",
              "      <th>4</th>\n",
              "      <td>17.0</td>\n",
              "      <td>8</td>\n",
              "      <td>302</td>\n",
              "      <td>140</td>\n",
              "      <td>3449</td>\n",
              "      <td>10.5</td>\n",
              "      <td>70</td>\n",
              "      <td>1</td>\n",
              "      <td>ford torino</td>\n",
              "    </tr>\n",
              "  </tbody>\n",
              "</table>\n",
              "</div>\n",
              "      <button class=\"colab-df-convert\" onclick=\"convertToInteractive('df-d357dd1c-11c6-4640-8161-5c4105173e20')\"\n",
              "              title=\"Convert this dataframe to an interactive table.\"\n",
              "              style=\"display:none;\">\n",
              "        \n",
              "  <svg xmlns=\"http://www.w3.org/2000/svg\" height=\"24px\"viewBox=\"0 0 24 24\"\n",
              "       width=\"24px\">\n",
              "    <path d=\"M0 0h24v24H0V0z\" fill=\"none\"/>\n",
              "    <path d=\"M18.56 5.44l.94 2.06.94-2.06 2.06-.94-2.06-.94-.94-2.06-.94 2.06-2.06.94zm-11 1L8.5 8.5l.94-2.06 2.06-.94-2.06-.94L8.5 2.5l-.94 2.06-2.06.94zm10 10l.94 2.06.94-2.06 2.06-.94-2.06-.94-.94-2.06-.94 2.06-2.06.94z\"/><path d=\"M17.41 7.96l-1.37-1.37c-.4-.4-.92-.59-1.43-.59-.52 0-1.04.2-1.43.59L10.3 9.45l-7.72 7.72c-.78.78-.78 2.05 0 2.83L4 21.41c.39.39.9.59 1.41.59.51 0 1.02-.2 1.41-.59l7.78-7.78 2.81-2.81c.8-.78.8-2.07 0-2.86zM5.41 20L4 18.59l7.72-7.72 1.47 1.35L5.41 20z\"/>\n",
              "  </svg>\n",
              "      </button>\n",
              "      \n",
              "  <style>\n",
              "    .colab-df-container {\n",
              "      display:flex;\n",
              "      flex-wrap:wrap;\n",
              "      gap: 12px;\n",
              "    }\n",
              "\n",
              "    .colab-df-convert {\n",
              "      background-color: #E8F0FE;\n",
              "      border: none;\n",
              "      border-radius: 50%;\n",
              "      cursor: pointer;\n",
              "      display: none;\n",
              "      fill: #1967D2;\n",
              "      height: 32px;\n",
              "      padding: 0 0 0 0;\n",
              "      width: 32px;\n",
              "    }\n",
              "\n",
              "    .colab-df-convert:hover {\n",
              "      background-color: #E2EBFA;\n",
              "      box-shadow: 0px 1px 2px rgba(60, 64, 67, 0.3), 0px 1px 3px 1px rgba(60, 64, 67, 0.15);\n",
              "      fill: #174EA6;\n",
              "    }\n",
              "\n",
              "    [theme=dark] .colab-df-convert {\n",
              "      background-color: #3B4455;\n",
              "      fill: #D2E3FC;\n",
              "    }\n",
              "\n",
              "    [theme=dark] .colab-df-convert:hover {\n",
              "      background-color: #434B5C;\n",
              "      box-shadow: 0px 1px 3px 1px rgba(0, 0, 0, 0.15);\n",
              "      filter: drop-shadow(0px 1px 2px rgba(0, 0, 0, 0.3));\n",
              "      fill: #FFFFFF;\n",
              "    }\n",
              "  </style>\n",
              "\n",
              "      <script>\n",
              "        const buttonEl =\n",
              "          document.querySelector('#df-d357dd1c-11c6-4640-8161-5c4105173e20 button.colab-df-convert');\n",
              "        buttonEl.style.display =\n",
              "          google.colab.kernel.accessAllowed ? 'block' : 'none';\n",
              "\n",
              "        async function convertToInteractive(key) {\n",
              "          const element = document.querySelector('#df-d357dd1c-11c6-4640-8161-5c4105173e20');\n",
              "          const dataTable =\n",
              "            await google.colab.kernel.invokeFunction('convertToInteractive',\n",
              "                                                     [key], {});\n",
              "          if (!dataTable) return;\n",
              "\n",
              "          const docLinkHtml = 'Like what you see? Visit the ' +\n",
              "            '<a target=\"_blank\" href=https://colab.research.google.com/notebooks/data_table.ipynb>data table notebook</a>'\n",
              "            + ' to learn more about interactive tables.';\n",
              "          element.innerHTML = '';\n",
              "          dataTable['output_type'] = 'display_data';\n",
              "          await google.colab.output.renderOutput(dataTable, element);\n",
              "          const docLink = document.createElement('div');\n",
              "          docLink.innerHTML = docLinkHtml;\n",
              "          element.appendChild(docLink);\n",
              "        }\n",
              "      </script>\n",
              "    </div>\n",
              "  </div>\n",
              "  "
            ]
          },
          "metadata": {},
          "execution_count": 4
        }
      ]
    },
    {
      "cell_type": "code",
      "source": [
        "cars.info()  # print the info of the data"
      ],
      "metadata": {
        "colab": {
          "base_uri": "https://localhost:8080/"
        },
        "id": "tg16GaDt3jXo",
        "outputId": "24ee1941-9091-45db-d3da-bf7d9b8b4a47"
      },
      "execution_count": null,
      "outputs": [
        {
          "output_type": "stream",
          "name": "stdout",
          "text": [
            "<class 'pandas.core.frame.DataFrame'>\n",
            "Int64Index: 398 entries, 0 to 199\n",
            "Data columns (total 9 columns):\n",
            " #   Column        Non-Null Count  Dtype  \n",
            "---  ------        --------------  -----  \n",
            " 0   mpg           398 non-null    float64\n",
            " 1   cylinders     398 non-null    int64  \n",
            " 2   displacement  398 non-null    int64  \n",
            " 3   horsepower    398 non-null    object \n",
            " 4   weight        398 non-null    int64  \n",
            " 5   acceleration  398 non-null    float64\n",
            " 6   model         398 non-null    int64  \n",
            " 7   origin        398 non-null    int64  \n",
            " 8   car           398 non-null    object \n",
            "dtypes: float64(2), int64(5), object(2)\n",
            "memory usage: 31.1+ KB\n"
          ]
        }
      ]
    },
    {
      "cell_type": "code",
      "source": [
        "cars.horsepower.unique()"
      ],
      "metadata": {
        "colab": {
          "base_uri": "https://localhost:8080/"
        },
        "id": "etwhX9xt3jyS",
        "outputId": "a5e2b4f3-89e7-415c-dff3-349d907c3feb"
      },
      "execution_count": null,
      "outputs": [
        {
          "output_type": "execute_result",
          "data": {
            "text/plain": [
              "array(['130', '165', '150', '140', '198', '220', '215', '225', '190',\n",
              "       '170', '160', '95', '97', '85', '88', '46', '87', '90', '113',\n",
              "       '200', '210', '193', '?', '100', '105', '175', '153', '180', '110',\n",
              "       '72', '86', '70', '76', '65', '69', '60', '80', '54', '208', '155',\n",
              "       '112', '92', '145', '137', '158', '167', '94', '107', '230', '49',\n",
              "       '75', '91', '122', '67', '83', '78', '52', '61', '93', '148',\n",
              "       '129', '96', '71', '98', '115', '53', '81', '79', '120', '152',\n",
              "       '102', '108', '68', '58', '149', '89', '63', '48', '66', '139',\n",
              "       '103', '125', '133', '138', '135', '142', '77', '62', '132', '84',\n",
              "       '64', '74', '116', '82'], dtype=object)"
            ]
          },
          "metadata": {},
          "execution_count": 6
        }
      ]
    },
    {
      "cell_type": "code",
      "source": [
        "cars.horsepower = cars.horsepower.str.replace('?','NaN').astype(float)\n",
        "cars.horsepower.fillna(cars.horsepower.mean(),inplace=True)\n",
        "cars.horsepower = cars.horsepower.astype(int)\n",
        "\n",
        "# print the info of the data again to see the datatypes of columns\n",
        "cars.info()"
      ],
      "metadata": {
        "colab": {
          "base_uri": "https://localhost:8080/"
        },
        "id": "IvzmBMYx3mlk",
        "outputId": "f50ff333-f85a-4711-ac69-1e9d523165f0"
      },
      "execution_count": null,
      "outputs": [
        {
          "output_type": "stream",
          "name": "stdout",
          "text": [
            "<class 'pandas.core.frame.DataFrame'>\n",
            "Int64Index: 398 entries, 0 to 199\n",
            "Data columns (total 9 columns):\n",
            " #   Column        Non-Null Count  Dtype  \n",
            "---  ------        --------------  -----  \n",
            " 0   mpg           398 non-null    float64\n",
            " 1   cylinders     398 non-null    int64  \n",
            " 2   displacement  398 non-null    int64  \n",
            " 3   horsepower    398 non-null    int64  \n",
            " 4   weight        398 non-null    int64  \n",
            " 5   acceleration  398 non-null    float64\n",
            " 6   model         398 non-null    int64  \n",
            " 7   origin        398 non-null    int64  \n",
            " 8   car           398 non-null    object \n",
            "dtypes: float64(2), int64(6), object(1)\n",
            "memory usage: 31.1+ KB\n"
          ]
        },
        {
          "output_type": "stream",
          "name": "stderr",
          "text": [
            "<ipython-input-7-6c974dd06153>:1: FutureWarning: The default value of regex will change from True to False in a future version. In addition, single character regular expressions will *not* be treated as literal strings when regex=True.\n",
            "  cars.horsepower = cars.horsepower.str.replace('?','NaN').astype(float)\n"
          ]
        }
      ]
    },
    {
      "cell_type": "code",
      "source": [
        "cars = cars.drop('car',axis=1)\n",
        "\n",
        "# check for duplicates and null values\n",
        "print('sum of duplicated values: {}\\n'.format(cars.duplicated().sum()))\n",
        "print('sum of null values: {}'.format(cars.isnull().sum()))"
      ],
      "metadata": {
        "colab": {
          "base_uri": "https://localhost:8080/"
        },
        "id": "fn3y9mzq3qJM",
        "outputId": "a4f0206b-2fe6-43d2-d777-1a22aaa134ab"
      },
      "execution_count": null,
      "outputs": [
        {
          "output_type": "stream",
          "name": "stdout",
          "text": [
            "sum of duplicated values: 0\n",
            "\n",
            "sum of null values: mpg             0\n",
            "cylinders       0\n",
            "displacement    0\n",
            "horsepower      0\n",
            "weight          0\n",
            "acceleration    0\n",
            "model           0\n",
            "origin          0\n",
            "dtype: int64\n"
          ]
        }
      ]
    },
    {
      "cell_type": "code",
      "source": [
        "# let's print the summary statistics of the data\n",
        "display(cars.describe())"
      ],
      "metadata": {
        "colab": {
          "base_uri": "https://localhost:8080/",
          "height": 300
        },
        "id": "9PkYelFb3sxy",
        "outputId": "2ee47526-b72b-4408-9866-fddb2b203ac2"
      },
      "execution_count": null,
      "outputs": [
        {
          "output_type": "display_data",
          "data": {
            "text/plain": [
              "              mpg   cylinders  displacement  horsepower       weight  \\\n",
              "count  398.000000  398.000000    398.000000  398.000000   398.000000   \n",
              "mean    23.514573    5.454774    193.427136  104.462312  2970.424623   \n",
              "std      7.815984    1.701004    104.268683   38.199230   846.841774   \n",
              "min      9.000000    3.000000     68.000000   46.000000  1613.000000   \n",
              "25%     17.500000    4.000000    104.250000   76.000000  2223.750000   \n",
              "50%     23.000000    4.000000    148.500000   95.000000  2803.500000   \n",
              "75%     29.000000    8.000000    262.000000  125.000000  3608.000000   \n",
              "max     46.600000    8.000000    455.000000  230.000000  5140.000000   \n",
              "\n",
              "       acceleration       model      origin  \n",
              "count    398.000000  398.000000  398.000000  \n",
              "mean      15.568090   76.010050    1.572864  \n",
              "std        2.757689    3.697627    0.802055  \n",
              "min        8.000000   70.000000    1.000000  \n",
              "25%       13.825000   73.000000    1.000000  \n",
              "50%       15.500000   76.000000    1.000000  \n",
              "75%       17.175000   79.000000    2.000000  \n",
              "max       24.800000   82.000000    3.000000  "
            ],
            "text/html": [
              "\n",
              "  <div id=\"df-16a9074c-505b-4cf7-9f78-728fde010459\">\n",
              "    <div class=\"colab-df-container\">\n",
              "      <div>\n",
              "<style scoped>\n",
              "    .dataframe tbody tr th:only-of-type {\n",
              "        vertical-align: middle;\n",
              "    }\n",
              "\n",
              "    .dataframe tbody tr th {\n",
              "        vertical-align: top;\n",
              "    }\n",
              "\n",
              "    .dataframe thead th {\n",
              "        text-align: right;\n",
              "    }\n",
              "</style>\n",
              "<table border=\"1\" class=\"dataframe\">\n",
              "  <thead>\n",
              "    <tr style=\"text-align: right;\">\n",
              "      <th></th>\n",
              "      <th>mpg</th>\n",
              "      <th>cylinders</th>\n",
              "      <th>displacement</th>\n",
              "      <th>horsepower</th>\n",
              "      <th>weight</th>\n",
              "      <th>acceleration</th>\n",
              "      <th>model</th>\n",
              "      <th>origin</th>\n",
              "    </tr>\n",
              "  </thead>\n",
              "  <tbody>\n",
              "    <tr>\n",
              "      <th>count</th>\n",
              "      <td>398.000000</td>\n",
              "      <td>398.000000</td>\n",
              "      <td>398.000000</td>\n",
              "      <td>398.000000</td>\n",
              "      <td>398.000000</td>\n",
              "      <td>398.000000</td>\n",
              "      <td>398.000000</td>\n",
              "      <td>398.000000</td>\n",
              "    </tr>\n",
              "    <tr>\n",
              "      <th>mean</th>\n",
              "      <td>23.514573</td>\n",
              "      <td>5.454774</td>\n",
              "      <td>193.427136</td>\n",
              "      <td>104.462312</td>\n",
              "      <td>2970.424623</td>\n",
              "      <td>15.568090</td>\n",
              "      <td>76.010050</td>\n",
              "      <td>1.572864</td>\n",
              "    </tr>\n",
              "    <tr>\n",
              "      <th>std</th>\n",
              "      <td>7.815984</td>\n",
              "      <td>1.701004</td>\n",
              "      <td>104.268683</td>\n",
              "      <td>38.199230</td>\n",
              "      <td>846.841774</td>\n",
              "      <td>2.757689</td>\n",
              "      <td>3.697627</td>\n",
              "      <td>0.802055</td>\n",
              "    </tr>\n",
              "    <tr>\n",
              "      <th>min</th>\n",
              "      <td>9.000000</td>\n",
              "      <td>3.000000</td>\n",
              "      <td>68.000000</td>\n",
              "      <td>46.000000</td>\n",
              "      <td>1613.000000</td>\n",
              "      <td>8.000000</td>\n",
              "      <td>70.000000</td>\n",
              "      <td>1.000000</td>\n",
              "    </tr>\n",
              "    <tr>\n",
              "      <th>25%</th>\n",
              "      <td>17.500000</td>\n",
              "      <td>4.000000</td>\n",
              "      <td>104.250000</td>\n",
              "      <td>76.000000</td>\n",
              "      <td>2223.750000</td>\n",
              "      <td>13.825000</td>\n",
              "      <td>73.000000</td>\n",
              "      <td>1.000000</td>\n",
              "    </tr>\n",
              "    <tr>\n",
              "      <th>50%</th>\n",
              "      <td>23.000000</td>\n",
              "      <td>4.000000</td>\n",
              "      <td>148.500000</td>\n",
              "      <td>95.000000</td>\n",
              "      <td>2803.500000</td>\n",
              "      <td>15.500000</td>\n",
              "      <td>76.000000</td>\n",
              "      <td>1.000000</td>\n",
              "    </tr>\n",
              "    <tr>\n",
              "      <th>75%</th>\n",
              "      <td>29.000000</td>\n",
              "      <td>8.000000</td>\n",
              "      <td>262.000000</td>\n",
              "      <td>125.000000</td>\n",
              "      <td>3608.000000</td>\n",
              "      <td>17.175000</td>\n",
              "      <td>79.000000</td>\n",
              "      <td>2.000000</td>\n",
              "    </tr>\n",
              "    <tr>\n",
              "      <th>max</th>\n",
              "      <td>46.600000</td>\n",
              "      <td>8.000000</td>\n",
              "      <td>455.000000</td>\n",
              "      <td>230.000000</td>\n",
              "      <td>5140.000000</td>\n",
              "      <td>24.800000</td>\n",
              "      <td>82.000000</td>\n",
              "      <td>3.000000</td>\n",
              "    </tr>\n",
              "  </tbody>\n",
              "</table>\n",
              "</div>\n",
              "      <button class=\"colab-df-convert\" onclick=\"convertToInteractive('df-16a9074c-505b-4cf7-9f78-728fde010459')\"\n",
              "              title=\"Convert this dataframe to an interactive table.\"\n",
              "              style=\"display:none;\">\n",
              "        \n",
              "  <svg xmlns=\"http://www.w3.org/2000/svg\" height=\"24px\"viewBox=\"0 0 24 24\"\n",
              "       width=\"24px\">\n",
              "    <path d=\"M0 0h24v24H0V0z\" fill=\"none\"/>\n",
              "    <path d=\"M18.56 5.44l.94 2.06.94-2.06 2.06-.94-2.06-.94-.94-2.06-.94 2.06-2.06.94zm-11 1L8.5 8.5l.94-2.06 2.06-.94-2.06-.94L8.5 2.5l-.94 2.06-2.06.94zm10 10l.94 2.06.94-2.06 2.06-.94-2.06-.94-.94-2.06-.94 2.06-2.06.94z\"/><path d=\"M17.41 7.96l-1.37-1.37c-.4-.4-.92-.59-1.43-.59-.52 0-1.04.2-1.43.59L10.3 9.45l-7.72 7.72c-.78.78-.78 2.05 0 2.83L4 21.41c.39.39.9.59 1.41.59.51 0 1.02-.2 1.41-.59l7.78-7.78 2.81-2.81c.8-.78.8-2.07 0-2.86zM5.41 20L4 18.59l7.72-7.72 1.47 1.35L5.41 20z\"/>\n",
              "  </svg>\n",
              "      </button>\n",
              "      \n",
              "  <style>\n",
              "    .colab-df-container {\n",
              "      display:flex;\n",
              "      flex-wrap:wrap;\n",
              "      gap: 12px;\n",
              "    }\n",
              "\n",
              "    .colab-df-convert {\n",
              "      background-color: #E8F0FE;\n",
              "      border: none;\n",
              "      border-radius: 50%;\n",
              "      cursor: pointer;\n",
              "      display: none;\n",
              "      fill: #1967D2;\n",
              "      height: 32px;\n",
              "      padding: 0 0 0 0;\n",
              "      width: 32px;\n",
              "    }\n",
              "\n",
              "    .colab-df-convert:hover {\n",
              "      background-color: #E2EBFA;\n",
              "      box-shadow: 0px 1px 2px rgba(60, 64, 67, 0.3), 0px 1px 3px 1px rgba(60, 64, 67, 0.15);\n",
              "      fill: #174EA6;\n",
              "    }\n",
              "\n",
              "    [theme=dark] .colab-df-convert {\n",
              "      background-color: #3B4455;\n",
              "      fill: #D2E3FC;\n",
              "    }\n",
              "\n",
              "    [theme=dark] .colab-df-convert:hover {\n",
              "      background-color: #434B5C;\n",
              "      box-shadow: 0px 1px 3px 1px rgba(0, 0, 0, 0.15);\n",
              "      filter: drop-shadow(0px 1px 2px rgba(0, 0, 0, 0.3));\n",
              "      fill: #FFFFFF;\n",
              "    }\n",
              "  </style>\n",
              "\n",
              "      <script>\n",
              "        const buttonEl =\n",
              "          document.querySelector('#df-16a9074c-505b-4cf7-9f78-728fde010459 button.colab-df-convert');\n",
              "        buttonEl.style.display =\n",
              "          google.colab.kernel.accessAllowed ? 'block' : 'none';\n",
              "\n",
              "        async function convertToInteractive(key) {\n",
              "          const element = document.querySelector('#df-16a9074c-505b-4cf7-9f78-728fde010459');\n",
              "          const dataTable =\n",
              "            await google.colab.kernel.invokeFunction('convertToInteractive',\n",
              "                                                     [key], {});\n",
              "          if (!dataTable) return;\n",
              "\n",
              "          const docLinkHtml = 'Like what you see? Visit the ' +\n",
              "            '<a target=\"_blank\" href=https://colab.research.google.com/notebooks/data_table.ipynb>data table notebook</a>'\n",
              "            + ' to learn more about interactive tables.';\n",
              "          element.innerHTML = '';\n",
              "          dataTable['output_type'] = 'display_data';\n",
              "          await google.colab.output.renderOutput(dataTable, element);\n",
              "          const docLink = document.createElement('div');\n",
              "          docLink.innerHTML = docLinkHtml;\n",
              "          element.appendChild(docLink);\n",
              "        }\n",
              "      </script>\n",
              "    </div>\n",
              "  </div>\n",
              "  "
            ]
          },
          "metadata": {}
        }
      ]
    },
    {
      "cell_type": "code",
      "source": [
        "cars.hist(figsize=(12,8),bins=20)\n",
        "plt.show()"
      ],
      "metadata": {
        "colab": {
          "base_uri": "https://localhost:8080/",
          "height": 501
        },
        "id": "Jl33wieJ3v5Q",
        "outputId": "7ef8e43b-117d-4084-bd2b-1033b85afe2f"
      },
      "execution_count": null,
      "outputs": [
        {
          "output_type": "display_data",
          "data": {
            "text/plain": [
              "<Figure size 864x576 with 9 Axes>"
            ],
            "image/png": "[encoded data removed]"
          },
          "metadata": {}
        }
      ]
    },
    {
      "cell_type": "code",
      "source": [
        "plt.figure(figsize=(10,6))\n",
        "sns.heatmap(cars.corr(),cmap=plt.cm.Reds,annot=True)\n",
        "plt.title('Heatmap displaying the relationship between\\nthe features of the data',\n",
        "         fontsize=13)\n",
        "plt.show()"
      ],
      "metadata": {
        "colab": {
          "base_uri": "https://localhost:8080/",
          "height": 472
        },
        "id": "Q2NAWPSW3x8z",
        "outputId": "bd3dfd84-a10a-4fd0-f9b9-51b1982e7b8d"
      },
      "execution_count": null,
      "outputs": [
        {
          "output_type": "display_data",
          "data": {
            "text/plain": [
              "<Figure size 720x432 with 2 Axes>"
            ],
            "image/png": "[encoded data removed]"
          },
          "metadata": {}
        }
      ]
    },
    {
      "cell_type": "code",
      "source": [
        "X1 = sm.tools.add_constant(cars) \n",
        "\n",
        "series1 = pd.Series([variance_inflation_factor(X1.values,i) for i in range(X1.shape[1])],\n",
        "                  index=X1.columns)\n",
        "\n",
        "# Let's drop the columns that highly correlate with each other\n",
        "newcars = cars.drop(['cylinders','displacement','weight'],axis=1)\n",
        "\n",
        "# Let's do the variance inflation factor method again after doing a feature selection....\n",
        "#..... to see if there's still multicollinearity.\n",
        "X2 = sm.tools.add_constant(newcars)\n",
        "\n",
        "series2 = pd.Series([variance_inflation_factor(X2.values,i) for i in range(X2.shape[1])],\n",
        "                  index=X2.columns)\n",
        "\n",
        "print('Series before feature selection: \\n\\n{}\\n'.format(series1))\n",
        "print('Series after feature selection: \\n\\n{}'.format(series2))"
      ],
      "metadata": {
        "colab": {
          "base_uri": "https://localhost:8080/"
        },
        "id": "CqRxkwLE33Km",
        "outputId": "7246e084-c494-4a9c-89d7-b37de388fb8d"
      },
      "execution_count": null,
      "outputs": [
        {
          "output_type": "stream",
          "name": "stdout",
          "text": [
            "Series before feature selection: \n",
            "\n",
            "const           780.806732\n",
            "mpg               5.583604\n",
            "cylinders        10.742595\n",
            "displacement     22.161456\n",
            "horsepower        9.057010\n",
            "weight           13.468497\n",
            "acceleration      2.515892\n",
            "model             1.954983\n",
            "origin            1.853451\n",
            "dtype: float64\n",
            "\n",
            "Series after feature selection: \n",
            "\n",
            "const           715.683761\n",
            "mpg               3.982206\n",
            "horsepower        4.131289\n",
            "acceleration      2.029527\n",
            "model             1.607080\n",
            "origin            1.542532\n",
            "dtype: float64\n"
          ]
        },
        {
          "output_type": "stream",
          "name": "stderr",
          "text": [
            "/usr/local/lib/python3.8/dist-packages/statsmodels/tsa/tsatools.py:142: FutureWarning: In a future version of pandas all arguments of concat except for the argument 'objs' will be keyword-only\n",
            "  x = pd.concat(x[::order], 1)\n"
          ]
        }
      ]
    },
    {
      "cell_type": "code",
      "source": [
        "print('Correlation between mpg and the remaining variables:\\n\\n{}'.format(newcars.corr().mpg))"
      ],
      "metadata": {
        "colab": {
          "base_uri": "https://localhost:8080/"
        },
        "id": "3FrFSO1935V1",
        "outputId": "f53ea9b0-c83a-46d6-d456-45b600c3278e"
      },
      "execution_count": null,
      "outputs": [
        {
          "output_type": "stream",
          "name": "stdout",
          "text": [
            "Correlation between mpg and the remaining variables:\n",
            "\n",
            "mpg             1.000000\n",
            "horsepower     -0.771543\n",
            "acceleration    0.420289\n",
            "model           0.579267\n",
            "origin          0.563450\n",
            "Name: mpg, dtype: float64\n"
          ]
        }
      ]
    },
    {
      "cell_type": "code",
      "source": [
        "X = newcars.drop('mpg',axis=1)  # create a DataFrame of feature/independent variables\n",
        "y = newcars.mpg   # create a series of the dependent variable\n",
        "\n",
        "# the feature/independent variables are not of the same scale so we scale them \n",
        "# this is only neccessary for the LinearRegression,Ridge and Lasso models\n",
        "# scaling the feature variables ensures fast computing.\n",
        "X_scaled = preprocessing.scale(X)\n",
        "\n",
        "# preprocessing.scale() returns a 2-d array not a DataFrame so we make our scaled variables\n",
        "# a DataFrame.\n",
        "X_scaled = pd.DataFrame(X_scaled,columns=X.columns)\n",
        "\n",
        "# split our data into training and testing data\n",
        "X_train,X_test,y_train,y_test = train_test_split(X_scaled,y,test_size=.3,random_state=0)\n",
        "\n",
        "model = LinearRegression()  # initialize the LinearRegression model\n",
        "model.fit(X_train,y_train)  # we fit the model with the training data"
      ],
      "metadata": {
        "colab": {
          "base_uri": "https://localhost:8080/"
        },
        "id": "hh0Q0ytc38Ro",
        "outputId": "da31e3f7-0f2b-46a9-dd9d-594e38a85ed4"
      },
      "execution_count": null,
      "outputs": [
        {
          "output_type": "execute_result",
          "data": {
            "text/plain": [
              "LinearRegression()"
            ]
          },
          "metadata": {},
          "execution_count": 14
        }
      ]
    },
    {
      "cell_type": "code",
      "source": [
        "linear_pred = model.predict(X_test)  # make prediction with the fitted model\n",
        "\n",
        "# score the model on the train set\n",
        "print('Train score: {}\\n'.format(model.score(X_train,y_train)))\n",
        "# score the model on the test set\n",
        "print('Test score: {}\\n'.format(model.score(X_test,y_test)))\n",
        "# calculate the overall accuracy of the model\n",
        "print('Overall model accuracy: {}\\n'.format(r2_score(y_test,linear_pred)))\n",
        "# compute the mean squared error of the model\n",
        "print('Mean Squared Error: {}'.format(mean_squared_error(y_test,linear_pred)))"
      ],
      "metadata": {
        "colab": {
          "base_uri": "https://localhost:8080/"
        },
        "id": "P4zwqiX-3_Sk",
        "outputId": "defb3f0c-1cd5-4410-eb01-dbd6f07d50d4"
      },
      "execution_count": null,
      "outputs": [
        {
          "output_type": "stream",
          "name": "stdout",
          "text": [
            "Train score: 0.7553135661809438\n",
            "\n",
            "Test score: 0.7271939488775567\n",
            "\n",
            "Overall model accuracy: 0.7271939488775567\n",
            "\n",
            "Mean Squared Error: 17.432820262005087\n"
          ]
        }
      ]
    },
    {
      "cell_type": "code",
      "source": [
        "# let's fit a ridge regression model and see if we can get a higher accuracy\n",
        "ridge = Ridge(alpha=.01)\n",
        "ridge.fit(X_train,y_train)  # fit the model with the training data\n",
        "\n",
        "ridge_pred = ridge.predict(X_test)  # make predictions\n",
        "\n",
        "# score the model to check the accuracy\n",
        "print('Train score: {}\\n'.format(ridge.score(X_train,y_train)))\n",
        "print('Test score: {}\\n'.format(ridge.score(X_test,y_test)))\n",
        "print('Overall model accuracy: {}\\n'.format(r2_score(y_test,ridge_pred)))\n",
        "print('Mean Squared Error: {}'.format(mean_squared_error(y_test,ridge_pred)))"
      ],
      "metadata": {
        "colab": {
          "base_uri": "https://localhost:8080/"
        },
        "id": "Zv8S5yI34Bcq",
        "outputId": "0fa50641-2566-4536-f1c0-2e161e73fa30"
      },
      "execution_count": null,
      "outputs": [
        {
          "output_type": "stream",
          "name": "stdout",
          "text": [
            "Train score: 0.7553135647960986\n",
            "\n",
            "Test score: 0.7271921092249626\n",
            "\n",
            "Overall model accuracy: 0.7271921092249626\n",
            "\n",
            "Mean Squared Error: 17.43293781926926\n"
          ]
        }
      ]
    },
    {
      "cell_type": "code",
      "source": [
        "ridge_model = Ridge()\n",
        "\n",
        "param = {'alpha':[0,0.1,0.01,0.001,1]}  # define the parameters\n",
        "\n",
        "# initialize the grid search\n",
        "ridge_search = GridSearchCV(ridge_model,param,cv=5,n_jobs=-1)\n",
        "\n",
        "ridge_search.fit(X_train,y_train)   # fit the model "
      ],
      "metadata": {
        "colab": {
          "base_uri": "https://localhost:8080/"
        },
        "id": "3DRRKTUY4D5U",
        "outputId": "33bf21f6-c830-4daf-c325-860a435a0a95"
      },
      "execution_count": null,
      "outputs": [
        {
          "output_type": "execute_result",
          "data": {
            "text/plain": [
              "GridSearchCV(cv=5, estimator=Ridge(), n_jobs=-1,\n",
              "             param_grid={'alpha': [0, 0.1, 0.01, 0.001, 1]})"
            ]
          },
          "metadata": {},
          "execution_count": 17
        }
      ]
    },
    {
      "cell_type": "code",
      "source": [
        "print('Best parameter found:\\n{}'.format(ridge_search.best_params_))\n",
        "print('Train score: {}\\n'.format(ridge_search.score(X_train,y_train)))\n",
        "print('Test score: {}'.format(ridge_search.score(X_test,y_test)))\n"
      ],
      "metadata": {
        "colab": {
          "base_uri": "https://localhost:8080/"
        },
        "id": "xvfVGfyW4GiF",
        "outputId": "4f553a11-2da5-440d-dc16-dbcd11bc01bd"
      },
      "execution_count": null,
      "outputs": [
        {
          "output_type": "stream",
          "name": "stdout",
          "text": [
            "Best parameter found:\n",
            "{'alpha': 1}\n",
            "Train score: 0.7553000451656908\n",
            "\n",
            "Test score: 0.7269994668801179\n"
          ]
        }
      ]
    },
    {
      "cell_type": "code",
      "source": [
        "lasso = Lasso()\n",
        "\n",
        "param['max_iter'] = [1000,10000,100000,1000000]\n",
        "\n",
        "lasso_search = GridSearchCV(lasso,param,cv=5,n_jobs=-1) # initialize the grid search\n",
        "\n",
        "lasso_search.fit(X_train,y_train)  # fit the model\n",
        "\n",
        "# print out the best parameters and score it \n",
        "print('Best parameter found:\\n{}\\n'.format(lasso_search.best_params_))\n",
        "print('Train score: {}\\n'.format(lasso_search.score(X_train,y_train)))\n",
        "print('Test score: {}'.format(lasso_search.score(X_test,y_test)))"
      ],
      "metadata": {
        "colab": {
          "base_uri": "https://localhost:8080/"
        },
        "id": "xi1Y0ZS54Jaj",
        "outputId": "2b49459b-f52b-4e84-ae32-e00bde824e43"
      },
      "execution_count": null,
      "outputs": [
        {
          "output_type": "stream",
          "name": "stdout",
          "text": [
            "Best parameter found:\n",
            "{'alpha': 0, 'max_iter': 1000}\n",
            "\n",
            "Train score: 0.7553135661809438\n",
            "\n",
            "Test score: 0.7271939488775567\n"
          ]
        },
        {
          "output_type": "stream",
          "name": "stderr",
          "text": [
            "/usr/local/lib/python3.8/dist-packages/sklearn/model_selection/_search.py:926: UserWarning: With alpha=0, this algorithm does not converge well. You are advised to use the LinearRegression estimator\n",
            "  self.best_estimator_.fit(X, y, **fit_params)\n",
            "/usr/local/lib/python3.8/dist-packages/sklearn/linear_model/_coordinate_descent.py:647: UserWarning: Coordinate descent with no regularization may lead to unexpected results and is discouraged.\n",
            "  model = cd_fast.enet_coordinate_descent(\n",
            "/usr/local/lib/python3.8/dist-packages/sklearn/linear_model/_coordinate_descent.py:647: ConvergenceWarning: Objective did not converge. You might want to increase the number of iterations, check the scale of the features or consider increasing regularisation. Duality gap: 2.026e+03, tolerance: 1.656e+00 Linear regression models with null weight for the l1 regularization term are more efficiently fitted using one of the solvers implemented in sklearn.linear_model.Ridge/RidgeCV instead.\n",
            "  model = cd_fast.enet_coordinate_descent(\n"
          ]
        }
      ]
    },
    {
      "cell_type": "code",
      "source": [
        "xtrain,xtest,ytrain,ytest = train_test_split(X,y,test_size=.2)"
      ],
      "metadata": {
        "id": "3G1ph57r4Mjc"
      },
      "execution_count": null,
      "outputs": []
    },
    {
      "cell_type": "code",
      "source": [
        "dtree = DecisionTreeRegressor() # initialize a DecisionTreeRegressor model\n",
        "\n",
        "params = {'max_features':['auto','sqrt','log2'],\n",
        "         'min_samples_split':[2,3,4,5,6,7,8,9],\n",
        "         'min_samples_leaf':[1,2,3,4,5,6,7,8,9],\n",
        "         'max_depth':[2,3,4,5,6,7]}                # define the hyperparameters\n",
        "\n",
        "tree_search = GridSearchCV(dtree,params,cv=5,n_jobs=-1)  # initialize the grid search\n",
        "\n",
        "tree_search.fit(xtrain,ytrain)   # fit the model"
      ],
      "metadata": {
        "colab": {
          "base_uri": "https://localhost:8080/"
        },
        "id": "gp0d9zku4PLt",
        "outputId": "1f707189-52e2-46fa-95e4-fe6c83c55da2"
      },
      "execution_count": null,
      "outputs": [
        {
          "output_type": "execute_result",
          "data": {
            "text/plain": [
              "GridSearchCV(cv=5, estimator=DecisionTreeRegressor(), n_jobs=-1,\n",
              "             param_grid={'max_depth': [2, 3, 4, 5, 6, 7],\n",
              "                         'max_features': ['auto', 'sqrt', 'log2'],\n",
              "                         'min_samples_leaf': [1, 2, 3, 4, 5, 6, 7, 8, 9],\n",
              "                         'min_samples_split': [2, 3, 4, 5, 6, 7, 8, 9]})"
            ]
          },
          "metadata": {},
          "execution_count": 21
        }
      ]
    },
    {
      "cell_type": "code",
      "source": [
        "tree_pred = tree_search.predict(xtest)  # make predictions with the model\n",
        "\n",
        "# print out the best parameters found and score the model\n",
        "print('Best parameter found:\\n{}\\n'.format(tree_search.best_params_))\n",
        "print('Train score: {}\\n'.format(tree_search.score(xtrain,ytrain)))\n",
        "print('Test score: {}\\n'.format(tree_search.score(xtest,ytest)))\n",
        "print('Overall model accuracy: {}\\n'.format(r2_score(ytest,tree_pred)))\n",
        "print('Mean Squared Error: {}'.format(mean_squared_error(ytest,tree_pred)))"
      ],
      "metadata": {
        "colab": {
          "base_uri": "https://localhost:8080/"
        },
        "id": "F5juPEEz4RWz",
        "outputId": "cb1fe8f0-e4d7-4f65-a5d5-8f71e5e881bc"
      },
      "execution_count": null,
      "outputs": [
        {
          "output_type": "stream",
          "name": "stdout",
          "text": [
            "Best parameter found:\n",
            "{'max_depth': 7, 'max_features': 'sqrt', 'min_samples_leaf': 8, 'min_samples_split': 2}\n",
            "\n",
            "Train score: 0.8232095927367749\n",
            "\n",
            "Test score: 0.7237433560086741\n",
            "\n",
            "Overall model accuracy: 0.7237433560086741\n",
            "\n",
            "Mean Squared Error: 16.802494982021614\n"
          ]
        }
      ]
    },
    {
      "cell_type": "code",
      "source": [
        "forest = RandomForestRegressor()\n",
        "\n",
        "# we add the n_estimators parameter in our previous parameter dictionary\n",
        "params['n_estimators'] = [100,200,300,400,500]\n",
        "\n",
        "forest_search = RandomizedSearchCV(forest,params,cv=5,n_jobs=-1,     # initialize the search\n",
        "                                  n_iter=50)\n",
        "\n",
        "forest_search.fit(xtrain,ytrain)  # fit the model"
      ],
      "metadata": {
        "colab": {
          "base_uri": "https://localhost:8080/"
        },
        "id": "Wj19mCaH4Ttr",
        "outputId": "c5b623db-47d2-4077-93ea-7287e61c8c0b"
      },
      "execution_count": null,
      "outputs": [
        {
          "output_type": "execute_result",
          "data": {
            "text/plain": [
              "RandomizedSearchCV(cv=5, estimator=RandomForestRegressor(), n_iter=50,\n",
              "                   n_jobs=-1,\n",
              "                   param_distributions={'max_depth': [2, 3, 4, 5, 6, 7],\n",
              "                                        'max_features': ['auto', 'sqrt',\n",
              "                                                         'log2'],\n",
              "                                        'min_samples_leaf': [1, 2, 3, 4, 5, 6,\n",
              "                                                             7, 8, 9],\n",
              "                                        'min_samples_split': [2, 3, 4, 5, 6, 7,\n",
              "                                                              8, 9],\n",
              "                                        'n_estimators': [100, 200, 300, 400,\n",
              "                                                         500]})"
            ]
          },
          "metadata": {},
          "execution_count": 23
        }
      ]
    },
    {
      "cell_type": "code",
      "source": [
        "forest_pred = forest_search.predict(xtest)  # make prediction with the model\n",
        "\n",
        "# print out the best parameters and score the model\n",
        "print('Best parameter found:\\n{}\\n'.format(forest_search.best_params_))\n",
        "print('Train score: {}\\n'.format(forest_search.score(xtrain,ytrain)))\n",
        "print('Test score: {}\\n'.format(forest_search.score(xtest,ytest)))\n",
        "print('Overall model accuracy: {}\\n'.format(r2_score(ytest,forest_pred)))\n",
        "print('Mean Squared Error: {}'.format(mean_squared_error(ytest,forest_pred)))"
      ],
      "metadata": {
        "colab": {
          "base_uri": "https://localhost:8080/"
        },
        "id": "lAujfxk94V5D",
        "outputId": "73652ce1-b58e-4026-8d4c-6890c8b3cf0e"
      },
      "execution_count": null,
      "outputs": [
        {
          "output_type": "stream",
          "name": "stdout",
          "text": [
            "Best parameter found:\n",
            "{'n_estimators': 400, 'min_samples_split': 8, 'min_samples_leaf': 3, 'max_features': 'log2', 'max_depth': 6}\n",
            "\n",
            "Train score: 0.9042083774536573\n",
            "\n",
            "Test score: 0.8207367221425061\n",
            "\n",
            "Overall model accuracy: 0.8207367221425061\n",
            "\n",
            "Mean Squared Error: 10.903159768913513\n"
          ]
        }
      ]
    },
    {
      "cell_type": "code",
      "source": [
        "# train a GradientBoostingRegressor model\n",
        "\n",
        "gradient_model = GradientBoostingRegressor()  # instantiate the model\n",
        "\n",
        "# append a learning_rate parameter to the parameter dictionary\n",
        "params['learning_rate'] = [0.05,0.1,0.2,0.3,0.4,0.5]\n",
        "\n",
        "gradient_search = RandomizedSearchCV(gradient_model,params,cv=5,n_jobs=-1,\n",
        "                                  n_iter=50)   # initialize the search\n",
        "\n",
        "gradient_search.fit(xtrain,ytrain)   # fit the model"
      ],
      "metadata": {
        "colab": {
          "base_uri": "https://localhost:8080/"
        },
        "id": "RVpLTtL64X55",
        "outputId": "8a890c1b-518e-45d0-c174-64c932107134"
      },
      "execution_count": null,
      "outputs": [
        {
          "output_type": "execute_result",
          "data": {
            "text/plain": [
              "RandomizedSearchCV(cv=5, estimator=GradientBoostingRegressor(), n_iter=50,\n",
              "                   n_jobs=-1,\n",
              "                   param_distributions={'learning_rate': [0.05, 0.1, 0.2, 0.3,\n",
              "                                                          0.4, 0.5],\n",
              "                                        'max_depth': [2, 3, 4, 5, 6, 7],\n",
              "                                        'max_features': ['auto', 'sqrt',\n",
              "                                                         'log2'],\n",
              "                                        'min_samples_leaf': [1, 2, 3, 4, 5, 6,\n",
              "                                                             7, 8, 9],\n",
              "                                        'min_samples_split': [2, 3, 4, 5, 6, 7,\n",
              "                                                              8, 9],\n",
              "                                        'n_estimators': [100, 200, 300, 400,\n",
              "                                                         500]})"
            ]
          },
          "metadata": {},
          "execution_count": 25
        }
      ]
    },
    {
      "cell_type": "code",
      "source": [
        "gradient_pred = gradient_search.predict(xtest)  # make predictions with the model\n",
        "\n",
        "# print out the best parameters and score the model\n",
        "print('Best parameter found:\\n{}\\n'.format(gradient_search.best_params_))\n",
        "print('Train score: {}\\n'.format(gradient_search.score(xtrain,ytrain)))\n",
        "print('Test score: {}\\n'.format(gradient_search.score(xtest,ytest)))\n",
        "print('Overall model accuracy: {}\\n'.format(r2_score(ytest,gradient_pred)))\n",
        "print('Mean Squared Error: {}\\n'.format(mean_squared_error(ytest,gradient_pred)))\n",
        "print('Looks like this model is not too overfitted and it has low mean squared error \\\n",
        "so we use this one........')"
      ],
      "metadata": {
        "colab": {
          "base_uri": "https://localhost:8080/"
        },
        "id": "iNYiupQ_4aSk",
        "outputId": "93cebd7b-cfda-410d-909a-35f334a507b7"
      },
      "execution_count": null,
      "outputs": [
        {
          "output_type": "stream",
          "name": "stdout",
          "text": [
            "Best parameter found:\n",
            "{'n_estimators': 300, 'min_samples_split': 3, 'min_samples_leaf': 8, 'max_features': 'sqrt', 'max_depth': 2, 'learning_rate': 0.05}\n",
            "\n",
            "Train score: 0.9121540713730315\n",
            "\n",
            "Test score: 0.8145270752618115\n",
            "\n",
            "Overall model accuracy: 0.8145270752618115\n",
            "\n",
            "Mean Squared Error: 11.280843212270893\n",
            "\n",
            "Looks like this model is not too overfitted and it has low mean squared error so we use this one........\n"
          ]
        }
      ]
    },
    {
      "cell_type": "code",
      "source": [
        "newcars_new = newcars.drop('mpg',axis=1)  # create a new DataFrame of the feature variables\n",
        "\n",
        "# make a DataFrame of the actual mpg and the predicted mpg \n",
        "data = pd.DataFrame({'Actual mpg':newcars.mpg.values,\n",
        "                    'Predicted mpg':gradient_search.predict(newcars_new.values)})\n",
        "\n",
        "\n",
        "# make a scatter plot of the actual and the predicted mpg of a car\n",
        "plt.figure(figsize=(12,8))\n",
        "plt.scatter(data.index,data['Actual mpg'].values,label='Actual mpg')\n",
        "plt.scatter(data.index,data['Predicted mpg'].values,label='Predicted mpg')\n",
        "plt.title('Comapring the Actual mpg values to the Predicted mpg values\\nModel accuracy = 85%',\n",
        "         fontsize=16)\n",
        "plt.xlabel('Car index')\n",
        "plt.ylabel('Mile Per Gallon (mpg)')\n",
        "plt.legend(loc='upper left')\n",
        "plt.show()"
      ],
      "metadata": {
        "colab": {
          "base_uri": "https://localhost:8080/",
          "height": 573
        },
        "id": "JSzt5_Ph4c4t",
        "outputId": "a34df24c-01c2-4372-f9b8-749b6b37dff3"
      },
      "execution_count": null,
      "outputs": [
        {
          "output_type": "stream",
          "name": "stderr",
          "text": [
            "/usr/local/lib/python3.8/dist-packages/sklearn/base.py:450: UserWarning: X does not have valid feature names, but GradientBoostingRegressor was fitted with feature names\n",
            "  warnings.warn(\n"
          ]
        },
        {
          "output_type": "display_data",
          "data": {
            "text/plain": [
              "<Figure size 864x576 with 1 Axes>"
            ],
            "image/png": "[encoded data removed]"
          },
          "metadata": {}
        }
      ]
    },
    {
      "cell_type": "markdown",
      "source": [
        "\"\"\"We can see from the above scatter plot that our model made a good predictions\n",
        "   as the values of the actual mpg and the predicted mpg are very close to each\n",
        "   other.\n",
        "   We can confidently say that we have succeeded in training a model that predicts \n",
        "   the Mileage Per Gallon (mpg) of a car given the acceleration,model,origin and \n",
        "   the horsepower of a car.\"\"\""
      ],
      "metadata": {
        "id": "vILhX4Fj4g7X"
      }
    }
  ]
}